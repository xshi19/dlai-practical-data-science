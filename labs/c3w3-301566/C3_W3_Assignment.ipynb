{
 "cells": [
  {
   "cell_type": "markdown",
   "metadata": {},
   "source": [
    "# Setup Private Workforce"
   ]
  },
  {
   "cell_type": "markdown",
   "metadata": {},
   "source": [
    "Create your own private workforce for human reviews."
   ]
  },
  {
   "cell_type": "code",
   "execution_count": null,
   "metadata": {},
   "outputs": [],
   "source": [
    "import boto3\n",
    "import sagemaker\n",
    "import pandas as pd\n",
    "\n",
    "sess = sagemaker.Session()\n",
    "bucket = sess.default_bucket()\n",
    "role = sagemaker.get_execution_role()\n",
    "region = boto3.Session().region_name\n",
    "\n",
    "sm = boto3.client('sagemaker')\n",
    "s3 = boto3.client(\"s3\", region)\n",
    "cognito_idp = boto3.client('cognito-idp')\n",
    "a2i = boto3.client(\"sagemaker-a2i-runtime\")"
   ]
  },
  {
   "cell_type": "markdown",
   "metadata": {},
   "source": [
    "# Setup Cognito Pool"
   ]
  },
  {
   "cell_type": "code",
   "execution_count": null,
   "metadata": {},
   "outputs": [],
   "source": [
    "import time\n",
    "\n",
    "timestamp = int(time.time())\n",
    "\n",
    "user_pool_name = 'groundtruth-user-pool-{}'.format(timestamp)\n",
    "\n",
    "create_user_pool_response = cognito_idp.create_user_pool(PoolName=user_pool_name)\n",
    "\n",
    "user_pool_id = create_user_pool_response['UserPool']['Id']\n",
    "\n",
    "print(user_pool_id)"
   ]
  },
  {
   "cell_type": "code",
   "execution_count": null,
   "metadata": {},
   "outputs": [],
   "source": [
    "create_user_pool_client_response = cognito_idp.create_user_pool_client(UserPoolId=user_pool_id,\n",
    "                                                                       ClientName='groundtruth-user-pool-client-{}'.format(timestamp),\n",
    "                                                                       GenerateSecret=True,\n",
    "                                                                       SupportedIdentityProviders=[\n",
    "                                                                          'COGNITO'\n",
    "                                                                       ],\n",
    "                                                                       AllowedOAuthFlows=[\n",
    "                                                                          'code',\n",
    "                                                                          'implicit'\n",
    "                                                                       ],\n",
    "                                                                       AllowedOAuthScopes=[\n",
    "                                                                           'email',\n",
    "                                                                           'openid',\n",
    "                                                                           'profile'\n",
    "                                                                       ],\n",
    "                                                                       CallbackURLs=[\n",
    "                                                                           'https://datascienceonaws.com', \n",
    "                                                                       ],\n",
    "                                                                       AllowedOAuthFlowsUserPoolClient=True)\n",
    "create_user_pool_client_response\n",
    "\n",
    "client_id = create_user_pool_client_response['UserPoolClient']['ClientId']"
   ]
  },
  {
   "cell_type": "code",
   "execution_count": null,
   "metadata": {},
   "outputs": [],
   "source": [
    "cognito_idp.create_user_pool_domain(UserPoolId=user_pool_id,\n",
    "                                    Domain='groundtruth-user-pool-domain-{}'.format(timestamp))\n"
   ]
  },
  {
   "cell_type": "code",
   "execution_count": null,
   "metadata": {},
   "outputs": [],
   "source": [
    "user_group_name = 'sagemaker-groundtruth-user-group-{}'.format(timestamp)\n",
    "\n",
    "cognito_idp.create_group(GroupName=user_group_name,\n",
    "                         UserPoolId=user_pool_id)"
   ]
  },
  {
   "cell_type": "code",
   "execution_count": null,
   "metadata": {},
   "outputs": [],
   "source": [
    "sm.list_workteams()\n",
    "# sm.delete_workteam(WorkteamName='groundtruth-workteam-1620927720')"
   ]
  },
  {
   "cell_type": "code",
   "execution_count": null,
   "metadata": {},
   "outputs": [],
   "source": [
    "sm.list_workforces()\n",
    "#sm.delete_workforce(WorkforceName='groundtruth-workforce-name-1620949528')"
   ]
  },
  {
   "cell_type": "code",
   "execution_count": null,
   "metadata": {},
   "outputs": [],
   "source": [
    "workforce_name = 'groundtruth-workforce-name-{}'.format(timestamp)\n",
    "\n",
    "create_workforce_response = sm.create_workforce(WorkforceName=workforce_name,\n",
    "                                                CognitoConfig={\n",
    "                                                    'UserPool': user_pool_id,\n",
    "                                                    'ClientId': client_id\n",
    "                                                })\n",
    "\n",
    "create_workforce_response"
   ]
  },
  {
   "cell_type": "code",
   "execution_count": null,
   "metadata": {},
   "outputs": [],
   "source": [
    "sm.list_workforces()"
   ]
  },
  {
   "cell_type": "code",
   "execution_count": null,
   "metadata": {},
   "outputs": [],
   "source": [
    "describe_workforce_response = sm.describe_workforce(WorkforceName=workforce_name)\n",
    "describe_workforce_response"
   ]
  },
  {
   "cell_type": "code",
   "execution_count": null,
   "metadata": {},
   "outputs": [],
   "source": [
    "# sm.delete_workforce(WorkforceName='groundtruth-workforce-name-1620949723')"
   ]
  },
  {
   "cell_type": "code",
   "execution_count": null,
   "metadata": {},
   "outputs": [],
   "source": [
    "workteam_name = 'groundtruth-workteam-{}'.format(timestamp)"
   ]
  },
  {
   "cell_type": "code",
   "execution_count": null,
   "metadata": {},
   "outputs": [],
   "source": [
    "# TODO: Add sleep"
   ]
  },
  {
   "cell_type": "code",
   "execution_count": null,
   "metadata": {},
   "outputs": [],
   "source": [
    "create_workteam_response = sm.create_workteam(\n",
    "    Description='groundtruth workteam',\n",
    "    WorkteamName=workteam_name,\n",
    "    WorkforceName=workforce_name,\n",
    "    MemberDefinitions=[\n",
    "        {\n",
    "            'CognitoMemberDefinition': {\n",
    "                'UserPool': user_pool_id,\n",
    "                'UserGroup': user_group_name,\n",
    "                'ClientId': client_id\n",
    "            }\n",
    "        }\n",
    "    ]\n",
    ")"
   ]
  },
  {
   "cell_type": "code",
   "execution_count": null,
   "metadata": {},
   "outputs": [],
   "source": [
    "workteam_arn = create_workteam_response['WorkteamArn']\n",
    "workteam_arn"
   ]
  },
  {
   "cell_type": "markdown",
   "metadata": {},
   "source": [
    "Check if workteam is created properly - otherwise we get weird errors during workteam creation, etc.\n",
    "\n",
    "Should be something like this:\n",
    "```\n",
    "{'Workteam': {'WorkteamName': 'groundtruth-workteam-1620927720',\n",
    "  'MemberDefinitions': [{'CognitoMemberDefinition': {'UserPool': 'us-east-1_3uqqE0vui',\n",
    "     'UserGroup': 'sagemaker-groundtruth-user-group-1620927720',\n",
    "     'ClientId': '77k1dio8s4rbltlndgogml1hqd'}}],\n",
    "  'WorkteamArn': 'arn:aws:sagemaker:us-east-1:835319576252:workteam/private-crowd/groundtruth-workteam-1620927720',\n",
    "  'Description': 'groundtruth workteam',\n",
    "  'SubDomain': 'bzxy1zzrn2.labeling.us-east-1.sagemaker.aws',\n",
    "  'CreateDate': datetime.datetime(2021, 5, 13, 23, 31, 45, 498000, tzinfo=tzlocal()),\n",
    "  'LastUpdatedDate': datetime.datetime(2021, 5, 13, 23, 31, 45, 498000, tzinfo=tzlocal()),\n",
    "  'NotificationConfiguration': {}},\n",
    " 'ResponseMetadata': {'RequestId': '294e612b-1396-4c2c-aa87-79c6f9783281',\n",
    "  'HTTPStatusCode': 200,\n",
    "  'HTTPHeaders': {'x-amzn-requestid': '294e612b-1396-4c2c-aa87-79c6f9783281',\n",
    "   'content-type': 'application/x-amz-json-1.1',\n",
    "   'content-length': '549',\n",
    "   'date': 'Thu, 13 May 2021 23:37:30 GMT'},\n",
    "  'RetryAttempts': 0}}\n",
    "```"
   ]
  },
  {
   "cell_type": "code",
   "execution_count": null,
   "metadata": {},
   "outputs": [],
   "source": [
    "describe_workteam_response = sm.describe_workteam(WorkteamName=workteam_name)\n",
    "describe_workteam_response"
   ]
  },
  {
   "cell_type": "code",
   "execution_count": null,
   "metadata": {},
   "outputs": [],
   "source": [
    "username = 'user-{}'.format(timestamp)\n",
    "\n",
    "temporary_password = 'Password@420'\n",
    "\n",
    "cognito_idp.admin_create_user(Username=username,\n",
    "                              UserPoolId=user_pool_id,\n",
    "                              TemporaryPassword=temporary_password,\n",
    "                              MessageAction='SUPPRESS')"
   ]
  },
  {
   "cell_type": "code",
   "execution_count": null,
   "metadata": {},
   "outputs": [],
   "source": [
    "cognito_idp.admin_add_user_to_group(\n",
    "    UserPoolId=user_pool_id,\n",
    "    Username=username,\n",
    "    GroupName=user_group_name\n",
    ")"
   ]
  },
  {
   "cell_type": "markdown",
   "metadata": {},
   "source": [
    "# A2I"
   ]
  },
  {
   "cell_type": "code",
   "execution_count": null,
   "metadata": {},
   "outputs": [],
   "source": [
    "output_path = 's3://{}/a2i-results-{}'.format(bucket, timestamp)\n",
    "print(output_path)"
   ]
  },
  {
   "cell_type": "code",
   "execution_count": null,
   "metadata": {},
   "outputs": [],
   "source": [
    "from IPython.core.display import display, HTML\n",
    "\n",
    "display(HTML('<b>Review <a target=\"blank\" href=\"https://{}.console.aws.amazon.com/sagemaker/groundtruth?region={}#/labeling-workforces/private-details/{}\">Workforce</a></b>'.format(region, region, workteam_name)))"
   ]
  },
  {
   "cell_type": "code",
   "execution_count": null,
   "metadata": {},
   "outputs": [],
   "source": [
    "import boto3\n",
    "\n",
    "account_id = boto3.client(\"sts\").get_caller_identity().get(\"Account\")"
   ]
  },
  {
   "cell_type": "markdown",
   "metadata": {},
   "source": [
    "# Create the Human Task UI using a Worker Task Template\n",
    "\n",
    "Create a human task UI resource, giving a UI template.  This template will be rendered to the human workers whenever human interaction is required.\n",
    "\n",
    "Below we've provided a simple demo template that is compatible with our use case.\n",
    "\n",
    "For other pre-built UIs (70+), check: https://github.com/aws-samples/amazon-a2i-sample-task-uis"
   ]
  },
  {
   "cell_type": "code",
   "execution_count": null,
   "metadata": {},
   "outputs": [],
   "source": [
    "template = r\"\"\"\n",
    "<script src=\"https://assets.crowd.aws/crowd-html-elements.js\"></script>\n",
    "\n",
    "<crowd-form>\n",
    "    <crowd-classifier name=\"sentiment\"\n",
    "                      categories=\"['-1', '0', '1']\"\n",
    "                      initial-value=\"{{ task.input.initialValue }}\"\n",
    "                      header=\"Classify Reviews into Sentiment:  -1 (negative), 0 (neutral), and 1 (positive)\">\n",
    "      \n",
    "        <classification-target>\n",
    "            {{ task.input.taskObject }}\n",
    "        </classification-target>\n",
    "      \n",
    "        <full-instructions header=\"Classify reviews into sentiment:  -1 (negative), 0 (neutral), and 1 (positive)\">\n",
    "            <p><strong>1</strong>: joy, excitement, delight</p>       \n",
    "            <p><strong>0</strong>: neither positive or negative, such as stating a fact</p>\n",
    "            <p><strong>-1</strong>: anger, sarcasm, anxiety</p>\n",
    "        </full-instructions>\n",
    "\n",
    "        <short-instructions>\n",
    "            Classify reviews into sentiment:  -1 (negative), 0 (neutral), and 1 (positive)\n",
    "        </short-instructions>\n",
    "    </crowd-classifier>\n",
    "</crowd-form>\n",
    "\"\"\""
   ]
  },
  {
   "cell_type": "code",
   "execution_count": null,
   "metadata": {},
   "outputs": [],
   "source": [
    "# Task UI name - this value is unique per account and region. You can also provide your own value here.\n",
    "task_ui_name = 'ui-{}'.format(timestamp)\n",
    "\n",
    "# Create a Human Task UI resource.\n",
    "human_task_ui_response = sm.create_human_task_ui(HumanTaskUiName=task_ui_name, UiTemplate={\"Content\": template})\n",
    "human_task_ui_arn = human_task_ui_response[\"HumanTaskUiArn\"]\n",
    "print(human_task_ui_arn)"
   ]
  },
  {
   "cell_type": "markdown",
   "metadata": {},
   "source": [
    "# Create a Flow Definition"
   ]
  },
  {
   "cell_type": "markdown",
   "metadata": {},
   "source": [
    "In this section, we're going to create a flow definition. Flow Definitions allow us to specify:\n",
    "\n",
    "* The workforce that your tasks will be sent to.\n",
    "* The instructions that your workforce will receive. This is called a worker task template.\n",
    "* The configuration of your worker tasks, including the number of workers that receive a task and time limits to complete tasks.\n",
    "* Where your output data will be stored.\n",
    "\n",
    "This demo is going to use the API, but you can optionally create this workflow definition in the console as well. \n",
    "\n",
    "For more details and instructions, see: https://docs.aws.amazon.com/sagemaker/latest/dg/a2i-create-flow-definition.html."
   ]
  },
  {
   "cell_type": "code",
   "execution_count": null,
   "metadata": {},
   "outputs": [],
   "source": [
    "# Flow definition name - this value is unique per account and region. You can also provide your own value here.\n",
    "flow_definition_name = 'fd-{}'.format(timestamp)\n",
    "\n",
    "create_workflow_definition_response = sm.create_flow_definition(\n",
    "    FlowDefinitionName=flow_definition_name,\n",
    "    RoleArn=role,\n",
    "    HumanLoopConfig={\n",
    "        \"WorkteamArn\": workteam_arn,\n",
    "        \"HumanTaskUiArn\": human_task_ui_arn,\n",
    "        \"TaskCount\": 1,\n",
    "        \"TaskDescription\": \"Classify Reviews into sentiment:  -1 (negative), 0 (neutral), 1 (positive)\",\n",
    "        \"TaskTitle\": \"Classify Reviews into sentiment:  -1 (negative), 0 (neutral), 1 (positive)\",\n",
    "    },\n",
    "    OutputConfig={\"S3OutputPath\": output_path},\n",
    ")\n",
    "\n",
    "augmented_ai_flow_definition_arn = create_workflow_definition_response[\"FlowDefinitionArn\"]"
   ]
  },
  {
   "cell_type": "markdown",
   "metadata": {},
   "source": [
    "# _If you see an error ^^^^ above ^^^^, you need to create your private workforce first. See the steps above. Then, re-run this cell._"
   ]
  },
  {
   "cell_type": "code",
   "execution_count": null,
   "metadata": {
    "scrolled": true
   },
   "outputs": [],
   "source": [
    "# Describe flow definition - status should turn to \"active\"\n",
    "for x in range(60):\n",
    "    describe_flow_definition_response = sm.describe_flow_definition(FlowDefinitionName=flow_definition_name)\n",
    "    print(describe_flow_definition_response[\"FlowDefinitionStatus\"])\n",
    "    if describe_flow_definition_response[\"FlowDefinitionStatus\"] == \"Active\":\n",
    "        print(\"Flow Definition is active\")\n",
    "        break\n",
    "    time.sleep(2)"
   ]
  },
  {
   "cell_type": "markdown",
   "metadata": {},
   "source": [
    "# Fix Labels"
   ]
  },
  {
   "cell_type": "markdown",
   "metadata": {},
   "source": [
    "# Check the Confidence Score for Each Prediction\n",
    "If < threshold, start the human loop.  You can integrate this type of logic into your application using the SDK.  In this case, we're using the Python SDK."
   ]
  },
  {
   "cell_type": "markdown",
   "metadata": {},
   "source": [
    "# Use our SageMaker to predict some sample reviews"
   ]
  },
  {
   "cell_type": "markdown",
   "metadata": {},
   "source": [
    "# Start a human loop when our model does not predict with confidence above a certain threshold \n",
    "The human loop will engage our workforce for human review if the confidence of the prediction is less than the provided confidence.\n",
    "\n",
    "![](img/augmented-ai-custom-predictions.png)"
   ]
  },
  {
   "cell_type": "code",
   "execution_count": null,
   "metadata": {},
   "outputs": [],
   "source": [
    "from sagemaker.predictor import Predictor\n",
    "from sagemaker.serializers import JSONLinesSerializer\n",
    "from sagemaker.deserializers import JSONLinesDeserializer\n",
    "\n",
    "class SentimentPredictor(Predictor):\n",
    "    def __init__(self, endpoint_name, sagemaker_session):\n",
    "        super().__init__(endpoint_name, \n",
    "                         sagemaker_session=sagemaker_session, \n",
    "                         serializer=JSONLinesSerializer(),\n",
    "                         deserializer=JSONLinesDeserializer())"
   ]
  },
  {
   "cell_type": "code",
   "execution_count": null,
   "metadata": {},
   "outputs": [],
   "source": [
    "from sagemaker.pytorch.model import PyTorchModel\n",
    "\n",
    "pytorch_model_name = 'model-{}'.format(timestamp)\n",
    "\n",
    "model = PyTorchModel(name=pytorch_model_name,\n",
    "                     model_data='s3://dlai-practical-data-science/models/ab/variant_a/model.tar.gz',\n",
    "                     predictor_cls=SentimentPredictor,\n",
    "                     entry_point='inference.py',\n",
    "                     source_dir='src',\n",
    "                     framework_version='1.6.0',\n",
    "                     py_version='py3',\n",
    "                     role=role)"
   ]
  },
  {
   "cell_type": "markdown",
   "metadata": {},
   "source": [
    "### _This cell will take approximately 5-10 minutes to run._"
   ]
  },
  {
   "cell_type": "code",
   "execution_count": null,
   "metadata": {},
   "outputs": [],
   "source": [
    "%%time\n",
    "\n",
    "pytorch_endpoint_name = 'endpoint-{}'.format(timestamp)\n",
    "\n",
    "predictor = model.deploy(initial_instance_count=1, \n",
    "                         instance_type='ml.m5.large', \n",
    "                         endpoint_name=pytorch_endpoint_name)"
   ]
  },
  {
   "cell_type": "code",
   "execution_count": null,
   "metadata": {},
   "outputs": [],
   "source": [
    "from IPython.core.display import display, HTML\n",
    "\n",
    "display(HTML('<b>Review <a target=\"blank\" href=\"https://console.aws.amazon.com/sagemaker/home?region={}#/endpoints/{}\">SageMaker REST Endpoint</a></b>'.format(region, pytorch_endpoint_name)))\n"
   ]
  },
  {
   "cell_type": "code",
   "execution_count": null,
   "metadata": {},
   "outputs": [],
   "source": [
    "reviews = [\"I enjoy this product\", \n",
    "           \"I am unhappy with this product\", \n",
    "           \"It is okay\", \n",
    "           \"sometimes it works\"]"
   ]
  },
  {
   "cell_type": "code",
   "execution_count": null,
   "metadata": {},
   "outputs": [],
   "source": [
    "import json\n",
    "\n",
    "human_loops_started = []\n",
    "\n",
    "CONFIDENCE_SCORE_THRESHOLD = 0.90\n",
    "\n",
    "for review in reviews:\n",
    "    inputs = [\n",
    "        {\"features\": [review]},\n",
    "    ]\n",
    "\n",
    "    response = predictor.predict(inputs)\n",
    "    print(response)\n",
    "    prediction = response[0]['predicted_label']\n",
    "    confidence_score = response[0]['probability']\n",
    "\n",
    "    print('Checking prediction confidence {} for sample review: \"{}\"'.format(confidence_score, review))\n",
    "\n",
    "    # Our condition for when we want to engage a human for review\n",
    "    if confidence_score < CONFIDENCE_SCORE_THRESHOLD:\n",
    "        human_loop_name = str(time.time()).replace('.', '-') # using milliseconds\n",
    "        input_content = {\"initialValue\": prediction, \"taskObject\": review}\n",
    "        start_loop_response = a2i.start_human_loop(\n",
    "            HumanLoopName=human_loop_name,\n",
    "            FlowDefinitionArn=augmented_ai_flow_definition_arn,\n",
    "            HumanLoopInput={\"InputContent\": json.dumps(input_content)},\n",
    "        )\n",
    "\n",
    "        human_loops_started.append(human_loop_name)\n",
    "\n",
    "        print(\n",
    "            f\"Confidence score of {confidence_score * 100}% for prediction of {prediction} is less than the threshold of {CONFIDENCE_SCORE_THRESHOLD * 100}%\"\n",
    "        )\n",
    "        print(f\"*** ==> Starting human loop with name: {human_loop_name}  \\n\")\n",
    "    else:\n",
    "        print(\n",
    "            f\"Confidence score of {confidence_score * 100}% for star rating of {prediction} is above threshold of {CONFIDENCE_SCORE_THRESHOLD * 100}%\"\n",
    "        )\n",
    "        print(\"Human loop not needed. \\n\")"
   ]
  },
  {
   "cell_type": "markdown",
   "metadata": {},
   "source": [
    "# Check Status of Human Loop"
   ]
  },
  {
   "cell_type": "code",
   "execution_count": null,
   "metadata": {},
   "outputs": [],
   "source": [
    "completed_human_loops = []\n",
    "for human_loop_name in human_loops_started:\n",
    "    resp = a2i.describe_human_loop(HumanLoopName=human_loop_name)\n",
    "    print(f\"HumanLoop Name: {human_loop_name}\")\n",
    "    print(f'HumanLoop Status: {resp[\"HumanLoopStatus\"]}')\n",
    "    print(f'HumanLoop Output Destination: {resp[\"HumanLoopOutput\"]}')\n",
    "    print(\"\")\n",
    "\n",
    "    if resp[\"HumanLoopStatus\"] == \"Completed\":\n",
    "        completed_human_loops.append(resp)"
   ]
  },
  {
   "cell_type": "markdown",
   "metadata": {},
   "source": [
    "# _Wait For Workers to Complete Their Human Loop Tasks_\n",
    "\n",
    "Navigate to the link below and login with your email and password that you used when you set up the Private Workforce."
   ]
  },
  {
   "cell_type": "markdown",
   "metadata": {},
   "source": [
    "Navigate to the private worker portal and complete the human loop.  Make sure you have invited yourself to the workteam and received the signup email.\n",
    "\n",
    "_Note:  Check your spam filter if you have not received the email._"
   ]
  },
  {
   "cell_type": "code",
   "execution_count": null,
   "metadata": {},
   "outputs": [],
   "source": [
    "labeling_ui = sm.describe_workteam(WorkteamName=workteam_name)[\"Workteam\"][\"SubDomain\"]"
   ]
  },
  {
   "cell_type": "code",
   "execution_count": null,
   "metadata": {},
   "outputs": [],
   "source": [
    "from IPython.core.display import display, HTML\n",
    "\n",
    "display(HTML('Click <a target=\"blank\" href=\"https://{}\">here</a> to start labeling with username <b>{}</b> and temporary password <b>{}</b>.'.format(labeling_ui, username, temporary_password)))"
   ]
  },
  {
   "cell_type": "markdown",
   "metadata": {},
   "source": [
    "![Data Labeling](img/label-data-job-instructions.png)"
   ]
  },
  {
   "cell_type": "markdown",
   "metadata": {},
   "source": [
    "# Verify that the human loops were completed by the workforce.\n",
    "This cell will not complete until you label the data above."
   ]
  },
  {
   "cell_type": "code",
   "execution_count": null,
   "metadata": {},
   "outputs": [],
   "source": [
    "import time\n",
    "\n",
    "completed_human_loops = []\n",
    "for human_loop_name in human_loops_started:\n",
    "    resp = a2i.describe_human_loop(HumanLoopName=human_loop_name)\n",
    "    print(f\"HumanLoop Name: {human_loop_name}\")\n",
    "    print(f'HumanLoop Status: {resp[\"HumanLoopStatus\"]}')\n",
    "    print(f'HumanLoop Output Destination: {resp[\"HumanLoopOutput\"]}')\n",
    "    print(\"\")\n",
    "    while resp[\"HumanLoopStatus\"] != \"Completed\":\n",
    "        print(f\"Waiting for HumanLoop to complete.\")\n",
    "        time.sleep(10)\n",
    "        resp = a2i.describe_human_loop(HumanLoopName=human_loop_name)\n",
    "    if resp[\"HumanLoopStatus\"] == \"Completed\":\n",
    "        completed_human_loops.append(resp)\n",
    "        print(f\"Completed!\")\n",
    "        print(\"\")"
   ]
  },
  {
   "cell_type": "markdown",
   "metadata": {},
   "source": [
    "# _YOU MUST LABEL BEFORE CONTINUING_"
   ]
  },
  {
   "cell_type": "markdown",
   "metadata": {},
   "source": [
    "# View Human Labels  "
   ]
  },
  {
   "cell_type": "markdown",
   "metadata": {},
   "source": [
    "Once the work is complete, Amazon A2I stores the results in the specified S3 bucket and sends a Cloudwatch Event.  Let's check the S3 contents."
   ]
  },
  {
   "cell_type": "code",
   "execution_count": null,
   "metadata": {
    "scrolled": true
   },
   "outputs": [],
   "source": [
    "import re\n",
    "from pprint import pprint\n",
    "\n",
    "fixed_items = []\n",
    "\n",
    "for resp in completed_human_loops:\n",
    "    split_string = re.split(\"s3://\" + bucket + \"/\", resp[\"HumanLoopOutput\"][\"OutputS3Uri\"])\n",
    "    output_bucket_key = split_string[1]\n",
    "\n",
    "    response = s3.get_object(Bucket=bucket, Key=output_bucket_key)\n",
    "    content = response[\"Body\"].read().decode(\"utf-8\")\n",
    "    json_output = json.loads(content)\n",
    "    pprint(json_output)\n",
    "\n",
    "    input_content = json_output[\"inputContent\"]\n",
    "    human_answer = json_output[\"humanAnswers\"][0][\"answerContent\"]\n",
    "    fixed_item = {\"input_content\": input_content, \"human_answer\": human_answer}\n",
    "    fixed_items.append(fixed_item)"
   ]
  },
  {
   "cell_type": "markdown",
   "metadata": {},
   "source": [
    "# Prepare the Data for Re-training"
   ]
  },
  {
   "cell_type": "code",
   "execution_count": null,
   "metadata": {},
   "outputs": [],
   "source": [
    "df_fixed_items = pd.DataFrame(fixed_items)  \n",
    "df_fixed_items.head()"
   ]
  }
 ],
 "metadata": {
  "instance_type": "ml.t3.medium",
  "kernelspec": {
   "display_name": "Python 3 (Data Science)",
   "language": "python",
   "name": "python3__SAGEMAKER_INTERNAL__arn:aws:sagemaker:us-east-1:081325390199:image/datascience-1.0"
  },
  "language_info": {
   "codemirror_mode": {
    "name": "ipython",
    "version": 3
   },
   "file_extension": ".py",
   "mimetype": "text/x-python",
   "name": "python",
   "nbconvert_exporter": "python",
   "pygments_lexer": "ipython3",
   "version": "3.7.10"
  }
 },
 "nbformat": 4,
 "nbformat_minor": 4
}
