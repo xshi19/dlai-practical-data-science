{
 "cells": [
  {
   "cell_type": "markdown",
   "metadata": {},
   "source": [
    "# Detect data bias with Amazon SageMaker Clarify\n",
    "\n",
    "### Introduction\n",
    "\n",
    "\n",
    "Bias can be present in your data before any model training occurs. Inspecting the dataset for bias can help detect collection gaps, inform your feature engineering, and understand societal biases the dataset may reflect. In this lab you will analyze bias on the dataset, generate and analyze bias report, and prepare the dataset for the model training."
   ]
  },
  {
   "cell_type": "markdown",
   "metadata": {},
   "source": [
    "### Table of Contents\n",
    "\n",
    "- [1. Analyze the dataset](#c1w2-1.)\n",
    "  - [1.1. Create a pandas data frame from the CSV file](#c1w2-1.1.)\n",
    "  - [1.2. Upload the dataset to S3 bucket](#c1w2-1.2.)\n",
    "- [2. Analyze class imbalance on the dataset with Amazon SageMaker Clarify](#c1w2-2.)\n",
    "  - [2.1. Configure a `DataConfig`](#c1w2-2.1.)\n",
    "    - [Exercise 1](#c1w2-ex-1)\n",
    "  - [2.2. Configure `BiasConfig`](#c1w2-2.2.)\n",
    "  - [2.3. Configure Amazon SageMaker Clarify as a processing job](#c1w2-2.3.)\n",
    "  - [2.4. Run the Amazon SageMaker Clarify processing job](#c1w2-2.4.)\n",
    "    - [Exercise 2](#c1w2-ex-2)\n",
    "  - [2.5. Run and review the Amazon SageMaker Clarify processing job on the unbalanced dataset](#c1w2-2.5.)\n",
    "  - [2.6. Analyze unbalanced bias report](#c1w2-2.6.)\n",
    "- [3. Balance the dataset by `product_category` and `sentiment`](#c1w2-3.)\n",
    "- [4. Analyze bias on balanced dataset with Amazon SageMaker Clarify](#c1w2-4.)\n",
    "  - [4.1. Configure a `DataConfig`](#c1w2-4.1.)\n",
    "    - [Exercise 3](#c1w2-ex-3)\n",
    "  - [4.2. Configure `BiasConfig`](#c1w2-4.2.)\n",
    "  - [4.3. Configure SageMaker Clarify as a processing job](#c1w2-4.3.)\n",
    "  - [4.4. Run the Amazon SageMaker Clarify processing job](#c1w2-4.4.)\n",
    "    - [Exercise 4](#c1w2-ex-4)\n",
    "  - [4.5. Run the Clarify processing job on the unbalanced dataset](#c1w2-4.5.)\n",
    "  - [4.6. Analyze balanced bias report](#c1w2-4.6.)"
   ]
  },
  {
   "cell_type": "markdown",
   "metadata": {},
   "source": [
    "First, let's install and import required modules."
   ]
  },
  {
   "cell_type": "code",
   "execution_count": null,
   "metadata": {},
   "outputs": [],
   "source": [
    "# please ignore warning messages during the installation\n",
    "!pip install --disable-pip-version-check -q sagemaker==2.35.0"
   ]
  },
  {
   "cell_type": "code",
   "execution_count": null,
   "metadata": {},
   "outputs": [],
   "source": [
    "import boto3\n",
    "import sagemaker\n",
    "import pandas as pd\n",
    "import numpy as np\n",
    "\n",
    "sess   = sagemaker.Session()\n",
    "bucket = sess.default_bucket()\n",
    "role = sagemaker.get_execution_role()\n",
    "region = boto3.Session().region_name"
   ]
  },
  {
   "cell_type": "code",
   "execution_count": null,
   "metadata": {},
   "outputs": [],
   "source": [
    "import matplotlib.pyplot as plt\n",
    "%matplotlib inline\n",
    "%config InlineBackend.figure_format='retina'"
   ]
  },
  {
   "cell_type": "markdown",
   "metadata": {},
   "source": [
    "<a name='c1w2-1.'></a>\n",
    "# 1. Analyze the dataset"
   ]
  },
  {
   "cell_type": "markdown",
   "metadata": {},
   "source": [
    "<a name='c1w2-1.1.'></a>\n",
    "### 1.1. Create a pandas data frame from the CSV file"
   ]
  },
  {
   "cell_type": "markdown",
   "metadata": {},
   "source": [
    "Create a pandas dataframe from each of the product categories and concatenate them into one."
   ]
  },
  {
   "cell_type": "code",
   "execution_count": null,
   "metadata": {},
   "outputs": [],
   "source": [
    "!aws s3 cp 's3://dlai-practical-data-science/data/transformed/womens_clothing_ecommerce_reviews_transformed.csv' ./"
   ]
  },
  {
   "cell_type": "code",
   "execution_count": null,
   "metadata": {},
   "outputs": [],
   "source": [
    "path = './womens_clothing_ecommerce_reviews_transformed.csv'\n",
    "\n",
    "df = pd.read_csv(path)\n",
    "df.head()"
   ]
  },
  {
   "cell_type": "markdown",
   "metadata": {},
   "source": [
    "As you saw in the previous lab, there are way more positive reviews than negative or neutral. Such a dataset is called unbalanced. \n",
    "\n",
    "In this case, using a relatively small data subset you could visualize the occurring unbalances. At scale, you would need to perform bias analysis. Let's use this dataset as an example."
   ]
  },
  {
   "cell_type": "code",
   "execution_count": null,
   "metadata": {},
   "outputs": [],
   "source": [
    "import seaborn as sns\n",
    "\n",
    "sns.countplot(data=df, x='sentiment', hue='product_category')\n",
    "\n",
    "plt.legend(loc='upper right',bbox_to_anchor=(1.3, 1.1))"
   ]
  },
  {
   "cell_type": "markdown",
   "metadata": {},
   "source": [
    "<a name='c1w2-1.2.'></a>\n",
    "### 1.2. Upload the dataset to S3 bucket\n",
    "\n",
    "Upload the dataset to a private S3 bucket in a folder called `bias/unbalanced`."
   ]
  },
  {
   "cell_type": "code",
   "execution_count": null,
   "metadata": {},
   "outputs": [],
   "source": [
    "data_s3_uri_unbalanced = sess.upload_data(bucket=bucket, \n",
    "                               key_prefix='bias/unbalanced', \n",
    "                               path='./womens_clothing_ecommerce_reviews_transformed.csv')\n",
    "data_s3_uri_unbalanced"
   ]
  },
  {
   "cell_type": "markdown",
   "metadata": {},
   "source": [
    "You can review the uploaded CSV file in the S3 bucket.\n",
    "\n",
    "**Instructions**: \n",
    "- open the link\n",
    "- click on the S3 bucket name `sagemaker-us-east-1-ACCOUNT`\n",
    "- go to the folder `bias/unbalanced`\n",
    "- check the existence of the file `womens_clothing_ecommerce_reviews_transformed.csv`"
   ]
  },
  {
   "cell_type": "code",
   "execution_count": null,
   "metadata": {},
   "outputs": [],
   "source": [
    "from IPython.core.display import display, HTML\n",
    "\n",
    "display(HTML('<b>Review <a target=\"top\" href=\"https://s3.console.aws.amazon.com/s3/home?region={}#\">Amazon S3 bucket</a></b>'.format(region)))"
   ]
  },
  {
   "cell_type": "markdown",
   "metadata": {},
   "source": [
    "<a name='c1w2-2.'></a>\n",
    "# 2. Analyze class imbalance on the dataset with Amazon SageMaker Clarify\n",
    "Let's analyze bias in `sentiment` with respect to the `product_category` facet on the dataset."
   ]
  },
  {
   "cell_type": "markdown",
   "metadata": {},
   "source": [
    "<a name='c1w2-2.1.'></a>\n",
    "### 2.1. Configure a `DataConfig`\n",
    "\n",
    "Information about the input data needs to be provided to the processor. This can be done with the `DataConfig` of the Clarify container. It stores information about the dataset to be analyzed, for example the dataset file, its format, headers and labels."
   ]
  },
  {
   "cell_type": "markdown",
   "metadata": {},
   "source": [
    "<a name='c1w2-ex-1'></a>\n",
    "### Exercise 1\n",
    "\n",
    "Configure a `DataConfig` for Clarify.\n",
    "\n",
    "**Instructions**: Use `DataConfig` to configure the target column (`'sentiment'` label), data input (`data_s3_uri_unbalanced`) and output paths (`bias_report_unbalanced_output_path`) with their formats (header names and the dataset type):\n",
    "\n",
    "```python\n",
    "data_config_unbalanced = clarify.DataConfig(\n",
    "    s3_data_input_path=..., # S3 object path containing the unbalanced dataset\n",
    "    s3_output_path=..., # path to store the output\n",
    "    label='...', # target column\n",
    "    headers=df_unbalanced.columns.to_list(),\n",
    "    dataset_type='text/csv'\n",
    ")\n",
    "```"
   ]
  },
  {
   "cell_type": "code",
   "execution_count": null,
   "metadata": {},
   "outputs": [],
   "source": [
    "from sagemaker import clarify\n",
    "\n",
    "bias_report_unbalanced_output_path = 's3://{}/bias/generated_bias_report/unbalanced'.format(bucket)\n",
    "\n",
    "data_config_unbalanced = clarify.DataConfig(\n",
    "    ### BEGIN SOLUTION - DO NOT delete this comment for grading purposes\n",
    "    s3_data_input_path=None, # Replace None\n",
    "    s3_output_path=None, # Replace None\n",
    "    label=None, # Replace None\n",
    "    ### END SOLUTION - DO NOT delete this comment for grading purposes\n",
    "    headers=df.columns.to_list(),\n",
    "    dataset_type='text/csv'\n",
    ")"
   ]
  },
  {
   "cell_type": "markdown",
   "metadata": {},
   "source": [
    "<a name='c1w2-2.2.'></a>\n",
    "### 2.2. Configure `BiasConfig`\n",
    "Bias is measured by calculating a metric and comparing it across groups. To compute it, you will specify the required information in the `BiasConfig` API. SageMaker Clarify needs the sensitive columns (`facet_name`) and the desirable outcomes (`label_values_or_threshold`). Here `product_category` is the sensitive facet and the desired outcome is with the `sentiment==1`.\n",
    "\n",
    "\n",
    "SageMaker Clarify can handle both categorical and continuous data for `label_values_or_threshold`. In this case you are using categorical data."
   ]
  },
  {
   "cell_type": "code",
   "execution_count": null,
   "metadata": {},
   "outputs": [],
   "source": [
    "bias_config_unbalanced = clarify.BiasConfig(\n",
    "    label_values_or_threshold=[1], # desired sentiment\n",
    "    facet_name='product_category' # sensitive column (facet)\n",
    ")"
   ]
  },
  {
   "cell_type": "markdown",
   "metadata": {},
   "source": [
    "<a name='c1w2-2.3.'></a>\n",
    "### 2.3. Configure Amazon SageMaker Clarify as a processing job"
   ]
  },
  {
   "cell_type": "markdown",
   "metadata": {},
   "source": [
    "Now you need to construct an object called `SageMakerClarifyProcessor`. This allows you to scale the process of data bias detection using two parameters, `instance_count` and `instance_type`. `Instance_count` represents how many nodes you want in the distributor cluster during the data detection. `Instance_type` specifies the processing capability (compute capacity, memory capacity) available for each one of those nodes."
   ]
  },
  {
   "cell_type": "code",
   "execution_count": null,
   "metadata": {},
   "outputs": [],
   "source": [
    "clarify_processor_unbalanced = clarify.SageMakerClarifyProcessor(role=role,\n",
    "                                                      instance_count=1,\n",
    "                                                      instance_type='ml.m5.large',\n",
    "                                                      sagemaker_session=sess)"
   ]
  },
  {
   "cell_type": "markdown",
   "metadata": {},
   "source": [
    "<a name='c1w2-2.4.'></a>\n",
    "### 2.4. Run the Amazon SageMaker Clarify processing job"
   ]
  },
  {
   "cell_type": "markdown",
   "metadata": {},
   "source": [
    "<a name='c1w2-ex-2'></a>\n",
    "### Exercise 2\n",
    "\n",
    "Run the configured processing job to compute the requested bias `methods` of the input data\n",
    "\n",
    "**Instructions**: Apply the `run_pre_training_bias` method to the configured Clarify processor, passing the configured input/output data (`data_config_unbalanced`), configuration of sensitive groups (`bias_config_unbalanced`) with the other job setup parameters:\n",
    "```python\n",
    "clarify_processor_unbalanced.run_pre_training_bias(\n",
    "    data_config=..., # configured input/output data\n",
    "    data_bias_config=..., # configured sensitive groups\n",
    "    methods=[\"CI\", \"DPL\", \"KL\", \"JS\", \"LP\", \"TVD\", \"KS\"], # selector of a subset of potential metrics\n",
    "    wait=False, # whether the call should wait until the job completes (default: True)\n",
    "    logs=False # whether to show the logs produced by the job. Only meaningful when wait is True (default: True)\n",
    ")\n",
    "```"
   ]
  },
  {
   "cell_type": "code",
   "execution_count": null,
   "metadata": {},
   "outputs": [],
   "source": [
    "clarify_processor_unbalanced.run_pre_training_bias(\n",
    "    ### BEGIN SOLUTION - DO NOT delete this comment for grading purposes\n",
    "    data_config=None, # Replace None\n",
    "    data_bias_config=None, # Replace None\n",
    "    ### END SOLUTION - DO NOT delete this comment for grading purposes\n",
    "    methods=[\"CI\", \"DPL\", \"KL\", \"JS\", \"LP\", \"TVD\", \"KS\"],\n",
    "    wait=False,\n",
    "    logs=False\n",
    ")"
   ]
  },
  {
   "cell_type": "code",
   "execution_count": null,
   "metadata": {},
   "outputs": [],
   "source": [
    "run_unbalanced_bias_processing_job_name = clarify_processor_unbalanced.latest_job.job_name\n",
    "print(run_unbalanced_bias_processing_job_name)"
   ]
  },
  {
   "cell_type": "markdown",
   "metadata": {},
   "source": [
    "<a name='c1w2-2.5.'></a>\n",
    "### 2.5. Run and review the Amazon SageMaker Clarify processing job on the unbalanced dataset\n",
    "\n",
    "Review the created Amazon SageMaker Clarify processing job and the Cloud Watch logs.\n",
    "\n",
    "**Instructions**: \n",
    "- open the link\n",
    "- note that you are in the section Amazon SageMaker -> Processing jobs\n",
    "- check the processing job name\n",
    "- note which other properties of the processing job you can see in the console"
   ]
  },
  {
   "cell_type": "code",
   "execution_count": null,
   "metadata": {},
   "outputs": [],
   "source": [
    "from IPython.core.display import display, HTML\n",
    "\n",
    "display(HTML('<b>Review <a target=\"blank\" href=\"https://console.aws.amazon.com/sagemaker/home?region={}#/processing-jobs/{}\">processing job</a></b>'.format(region, run_unbalanced_bias_processing_job_name)))\n"
   ]
  },
  {
   "cell_type": "markdown",
   "metadata": {},
   "source": [
    "**Instructions**: \n",
    "- open the link\n",
    "- open the log stream with the name, which starts from the processing job name\n",
    "- have a quick look at the log messages"
   ]
  },
  {
   "cell_type": "code",
   "execution_count": null,
   "metadata": {},
   "outputs": [],
   "source": [
    "from IPython.core.display import display, HTML\n",
    "\n",
    "display(HTML('<b>Review <a target=\"blank\" href=\"https://console.aws.amazon.com/cloudwatch/home?region={}#logStream:group=/aws/sagemaker/ProcessingJobs;prefix={};streamFilter=typeLogStreamPrefix\">CloudWatch logs</a> after about 5 minutes</b>'.format(region, run_unbalanced_bias_processing_job_name)))"
   ]
  },
  {
   "cell_type": "code",
   "execution_count": null,
   "metadata": {},
   "outputs": [],
   "source": [
    "running_processor = sagemaker.processing.ProcessingJob.from_processing_name(processing_job_name=run_unbalanced_bias_processing_job_name,\n",
    "                                                                            sagemaker_session=sess)"
   ]
  },
  {
   "cell_type": "markdown",
   "metadata": {},
   "source": [
    "### _This cell will take approximately 5-10 minutes to run._"
   ]
  },
  {
   "cell_type": "code",
   "execution_count": null,
   "metadata": {},
   "outputs": [],
   "source": [
    "%%time\n",
    "\n",
    "running_processor.wait(logs=False)"
   ]
  },
  {
   "cell_type": "markdown",
   "metadata": {},
   "source": [
    "<a name='c1w2-2.6.'></a>\n",
    "### 2.6. Analyze unbalanced bias report\n",
    "In this run, you analyzed bias for `sentiment` relative to the `product_category` for the unbalanced data. Let's have a look at the bias report."
   ]
  },
  {
   "cell_type": "markdown",
   "metadata": {},
   "source": [
    "List the files in the output path `bias_report_unbalanced_output_path`:"
   ]
  },
  {
   "cell_type": "code",
   "execution_count": null,
   "metadata": {},
   "outputs": [],
   "source": [
    "!aws s3 ls $bias_report_unbalanced_output_path/"
   ]
  },
  {
   "cell_type": "markdown",
   "metadata": {},
   "source": [
    "Download generated bias report from S3 bucket:"
   ]
  },
  {
   "cell_type": "code",
   "execution_count": null,
   "metadata": {},
   "outputs": [],
   "source": [
    "!aws s3 cp --recursive $bias_report_unbalanced_output_path ./generated_bias_report/unbalanced/"
   ]
  },
  {
   "cell_type": "markdown",
   "metadata": {},
   "source": [
    "Review the downloaded bias report (in HTML format):"
   ]
  },
  {
   "cell_type": "code",
   "execution_count": null,
   "metadata": {},
   "outputs": [],
   "source": [
    "from IPython.core.display import display, HTML\n",
    "\n",
    "display(HTML('<b>Review <a target=\"blank\" href=\"./generated_bias_report/unbalanced/report.html\">unbalanced bias report</a></b>'))"
   ]
  },
  {
   "cell_type": "markdown",
   "metadata": {},
   "source": [
    "The bias report shows a number of metrics, but here you can focus on just two of them: \n",
    "- Class Imbalance (CI). Measures the imbalance in the number of members between different facet values. Answers the question, does a `product_category` have disproportionately more reviews than others? Values of CI will become equal for even distribution between facets. Here, different CI values show the existence of imbalance.\n",
    "- Difference in Positive Proportions in Labels (DPL). Measures the imbalance of positive outcomes between different facet values. Answers the question, does a `product_category` have disproportionately higher ratings than others? With the range over the interval from -1 to 1, if there is no bias, you want to see this value as close as possible to zero. Here, non-zero values indicate the imbalances."
   ]
  },
  {
   "cell_type": "markdown",
   "metadata": {},
   "source": [
    "<a name='c1w2-3.'></a>\n",
    "# 3. Balance the dataset by `product_category` and `sentiment`\n",
    "Let's balance the dataset by `product_category` and `sentiment`. Then you can configure and run SageMaker Clarify processing job to analyze the bias of it. Which metrics values do you expect to see in the bias report?"
   ]
  },
  {
   "cell_type": "code",
   "execution_count": null,
   "metadata": {},
   "outputs": [],
   "source": [
    "df_grouped_by = df.groupby(['product_category', 'sentiment'])\n",
    "df_balanced = df_grouped_by.apply(lambda x: x.sample(df_grouped_by.size().min()).reset_index(drop=True))"
   ]
  },
  {
   "cell_type": "code",
   "execution_count": null,
   "metadata": {},
   "outputs": [],
   "source": [
    "df_balanced"
   ]
  },
  {
   "cell_type": "markdown",
   "metadata": {},
   "source": [
    "Visualize the distribution of review sentiment in the balanced dataset."
   ]
  },
  {
   "cell_type": "code",
   "execution_count": null,
   "metadata": {},
   "outputs": [],
   "source": [
    "import seaborn as sns\n",
    "\n",
    "sns.countplot(data=df_balanced, x='sentiment', hue='product_category')\n",
    "\n",
    "plt.legend(loc='upper right',bbox_to_anchor=(1.3, 1.1))\n"
   ]
  },
  {
   "cell_type": "markdown",
   "metadata": {},
   "source": [
    "<a name='c1w2-4.'></a>\n",
    "# 4. Analyze bias on balanced dataset with Amazon SageMaker Clarify\n",
    "Let's analyze bias in `sentiment` with respect to the `product_category` facet on your balanced dataset."
   ]
  },
  {
   "cell_type": "markdown",
   "metadata": {},
   "source": [
    "Save and upload balanced data to S3 bucket."
   ]
  },
  {
   "cell_type": "code",
   "execution_count": null,
   "metadata": {},
   "outputs": [],
   "source": [
    "path_balanced = './womens_clothing_ecommerce_reviews_balanced.csv'\n",
    "df_balanced.to_csv(path_balanced, index=False, header=True)\n",
    "\n",
    "data_s3_uri_balanced = sess.upload_data(bucket=bucket, key_prefix='bias/balanced', path=path_balanced)\n",
    "data_s3_uri_balanced"
   ]
  },
  {
   "cell_type": "markdown",
   "metadata": {},
   "source": [
    "You can review the uploaded CSV file in the S3 bucket and prefix `bias/balanced`."
   ]
  },
  {
   "cell_type": "code",
   "execution_count": null,
   "metadata": {},
   "outputs": [],
   "source": [
    "from IPython.core.display import display, HTML\n",
    "\n",
    "display(HTML('<b>Review <a target=\"top\" href=\"https://s3.console.aws.amazon.com/s3/home?region={}#\">Amazon S3 bucket</a></b>'.format(region)))"
   ]
  },
  {
   "cell_type": "markdown",
   "metadata": {},
   "source": [
    "<a name='c1w2-4.1.'></a>\n",
    "### 4.1. Configure a `DataConfig`"
   ]
  },
  {
   "cell_type": "markdown",
   "metadata": {},
   "source": [
    "<a name='c1w2-ex-3'></a>\n",
    "### Exercise 3\n",
    "\n",
    "Configure a `DataConfig` for Clarify to analyze bias on the balanced dataset.\n",
    "\n",
    "**Instructions**: Pass the S3 object path containing the balanced dataset, the path to store the output (`bias_report_balanced_output_path`) and the target column. You can use exercise 1 as an example."
   ]
  },
  {
   "cell_type": "code",
   "execution_count": null,
   "metadata": {},
   "outputs": [],
   "source": [
    "from sagemaker import clarify\n",
    "\n",
    "bias_report_balanced_output_path = 's3://{}/bias/generated_bias_report/balanced'.format(bucket)\n",
    "\n",
    "data_config_balanced = clarify.DataConfig(\n",
    "    ### BEGIN SOLUTION - DO NOT delete this comment for grading purposes\n",
    "    s3_data_input_path=None, # Replace None\n",
    "    s3_output_path=None, # Replace None\n",
    "    label=None, # Replace None\n",
    "    ### END SOLUTION - DO NOT delete this comment for grading purposes\n",
    "    headers=df_balanced.columns.to_list(),\n",
    "    dataset_type='text/csv'\n",
    ")"
   ]
  },
  {
   "cell_type": "markdown",
   "metadata": {},
   "source": [
    "<a name='c1w2-4.2.'></a>\n",
    "### 4.2. Configure `BiasConfig`\n",
    "\n",
    "`BiasConfig` for the balanced dataset will have the same settings as before."
   ]
  },
  {
   "cell_type": "code",
   "execution_count": null,
   "metadata": {},
   "outputs": [],
   "source": [
    "bias_config_balanced = clarify.BiasConfig(\n",
    "    label_values_or_threshold=[1], # desired sentiment\n",
    "    facet_name='product_category' # sensitive column (facet)\n",
    ")"
   ]
  },
  {
   "cell_type": "markdown",
   "metadata": {},
   "source": [
    "<a name='c1w2-4.3.'></a>\n",
    "### 4.3. Configure SageMaker Clarify as a processing job\n",
    "\n",
    "`SageMakerClarifyProcessor` object will also have the same parameters."
   ]
  },
  {
   "cell_type": "code",
   "execution_count": null,
   "metadata": {},
   "outputs": [],
   "source": [
    "clarify_processor_balanced = clarify.SageMakerClarifyProcessor(role=role,\n",
    "                                                      instance_count=1,\n",
    "                                                      instance_type='ml.m5.large',\n",
    "                                                      sagemaker_session=sess)"
   ]
  },
  {
   "cell_type": "markdown",
   "metadata": {},
   "source": [
    "<a name='c1w2-4.4.'></a>\n",
    "### 4.4. Run the Amazon SageMaker Clarify processing job"
   ]
  },
  {
   "cell_type": "markdown",
   "metadata": {},
   "source": [
    "<a name='c1w2-ex-4'></a>\n",
    "### Exercise 4\n",
    "\n",
    "Run the configured processing job for the balanced dataset.\n",
    "\n",
    "**Instructions**: Apply the `run_pre_training_bias` method to the configured Clarify processor, passing the input/output data, configuration of sensitive groups with the other job setup parameters. You can use exercise 2 as an example.\n"
   ]
  },
  {
   "cell_type": "code",
   "execution_count": null,
   "metadata": {},
   "outputs": [],
   "source": [
    "clarify_processor_balanced.run_pre_training_bias(\n",
    "    ### BEGIN SOLUTION - DO NOT delete this comment for grading purposes\n",
    "    data_config=None, # Replace None\n",
    "    data_bias_config=None, # Replace None\n",
    "    ### END SOLUTION - DO NOT delete this comment for grading purposes\n",
    "    methods=[\"CI\", \"DPL\", \"KL\", \"JS\", \"LP\", \"TVD\", \"KS\"],\n",
    "    wait=False,\n",
    "    logs=False\n",
    ")"
   ]
  },
  {
   "cell_type": "code",
   "execution_count": null,
   "metadata": {},
   "outputs": [],
   "source": [
    "run_balanced_bias_processing_job_name = clarify_processor_balanced.latest_job.job_name\n",
    "print(run_balanced_bias_processing_job_name)"
   ]
  },
  {
   "cell_type": "markdown",
   "metadata": {},
   "source": [
    "<a name='c1w2-4.5.'></a>\n",
    "### 4.5. Run the Clarify processing job on the unbalanced dataset\n",
    "Review the results of the run following the links:"
   ]
  },
  {
   "cell_type": "code",
   "execution_count": null,
   "metadata": {},
   "outputs": [],
   "source": [
    "from IPython.core.display import display, HTML\n",
    "\n",
    "display(HTML('<b>Review <a target=\"blank\" href=\"https://console.aws.amazon.com/sagemaker/home?region={}#/processing-jobs/{}\">processing job</a></b>'.format(region, run_balanced_bias_processing_job_name)))\n"
   ]
  },
  {
   "cell_type": "code",
   "execution_count": null,
   "metadata": {},
   "outputs": [],
   "source": [
    "from IPython.core.display import display, HTML\n",
    "\n",
    "display(HTML('<b>Review <a target=\"blank\" href=\"https://console.aws.amazon.com/cloudwatch/home?region={}#logStream:group=/aws/sagemaker/ProcessingJobs;prefix={};streamFilter=typeLogStreamPrefix\">CloudWatch logs</a> after about 5 minutes</b>'.format(region, run_balanced_bias_processing_job_name)))\n"
   ]
  },
  {
   "cell_type": "code",
   "execution_count": null,
   "metadata": {},
   "outputs": [],
   "source": [
    "running_processor = sagemaker.processing.ProcessingJob.from_processing_name(processing_job_name=run_balanced_bias_processing_job_name,\n",
    "                                                                            sagemaker_session=sess)"
   ]
  },
  {
   "cell_type": "markdown",
   "metadata": {},
   "source": [
    "### _This cell will take approximately 5-10 minutes to run._"
   ]
  },
  {
   "cell_type": "code",
   "execution_count": null,
   "metadata": {},
   "outputs": [],
   "source": [
    "%%time\n",
    "\n",
    "running_processor.wait(logs=False)"
   ]
  },
  {
   "cell_type": "markdown",
   "metadata": {},
   "source": [
    "<a name='c1w2-4.6.'></a>\n",
    "### 4.6. Analyze balanced bias report"
   ]
  },
  {
   "cell_type": "markdown",
   "metadata": {},
   "source": [
    "List the files in the output path `bias_report_balanced_output_path`:"
   ]
  },
  {
   "cell_type": "code",
   "execution_count": null,
   "metadata": {},
   "outputs": [],
   "source": [
    "!aws s3 ls $bias_report_balanced_output_path/"
   ]
  },
  {
   "cell_type": "markdown",
   "metadata": {},
   "source": [
    "Download generated bias report from S3 bucket:"
   ]
  },
  {
   "cell_type": "code",
   "execution_count": null,
   "metadata": {},
   "outputs": [],
   "source": [
    "!aws s3 cp --recursive $bias_report_balanced_output_path ./generated_bias_report/balanced/"
   ]
  },
  {
   "cell_type": "markdown",
   "metadata": {},
   "source": [
    "Review the downloaded bias report (in HTML format):"
   ]
  },
  {
   "cell_type": "code",
   "execution_count": null,
   "metadata": {},
   "outputs": [],
   "source": [
    "from IPython.core.display import display, HTML\n",
    "\n",
    "display(HTML('<b>Review <a target=\"blank\" href=\"./generated_bias_report/balanced/report.html\">balanced bias report</a></b>'))"
   ]
  },
  {
   "cell_type": "markdown",
   "metadata": {},
   "source": [
    "In this run, you analyzed bias for `sentiment` relative to the `product_category` for the balanced data.  Note that the Class Imbalance (CI) metric is equal across all product categories for the target label, `sentiment`. And Difference in Positive Proportions in Labels (DPL) metric values are zero."
   ]
  },
  {
   "cell_type": "markdown",
   "metadata": {},
   "source": [
    "Upload the notebook into S3 bucket for grading purposes.\n",
    "\n",
    "**Note**: you may need to click on \"Save\" button before the upload."
   ]
  },
  {
   "cell_type": "code",
   "execution_count": null,
   "metadata": {},
   "outputs": [],
   "source": [
    "!aws s3 cp ./C1_W2_Assignment.ipynb s3://$bucket/C1_W2_Assignment_Learner.ipynb"
   ]
  },
  {
   "cell_type": "markdown",
   "metadata": {},
   "source": [
    "Please go to the main lab window and click on `Submit` button (see the `Finish the lab` section of the instructions)."
   ]
  },
  {
   "cell_type": "code",
   "execution_count": null,
   "metadata": {},
   "outputs": [],
   "source": []
  }
 ],
 "metadata": {
  "instance_type": "ml.t3.medium",
  "kernelspec": {
   "display_name": "Python 3 (Data Science)",
   "language": "python",
   "name": "python3__SAGEMAKER_INTERNAL__arn:aws:sagemaker:us-east-1:081325390199:image/datascience-1.0"
  },
  "language_info": {
   "codemirror_mode": {
    "name": "ipython",
    "version": 3
   },
   "file_extension": ".py",
   "mimetype": "text/x-python",
   "name": "python",
   "nbconvert_exporter": "python",
   "pygments_lexer": "ipython3",
   "version": "3.7.10"
  }
 },
 "nbformat": 4,
 "nbformat_minor": 4
}
